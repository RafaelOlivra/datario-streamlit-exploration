{
 "cells": [
  {
   "cell_type": "code",
   "execution_count": 35,
   "metadata": {},
   "outputs": [
    {
     "name": "stderr",
     "output_type": "stream",
     "text": [
      "C:\\Users\\rafae\\AppData\\Local\\Temp\\ipykernel_14572\\1167670728.py:31: FutureWarning: Downcasting behavior in `replace` is deprecated and will be removed in a future version. To retain the old behavior, explicitly call `result.infer_objects(copy=False)`. To opt-in to the future behavior, set `pd.set_option('future.no_silent_downcasting', True)`\n",
      "  df['Marítima'] = df['Marítima'].replace('-', 0)\n"
     ]
    },
    {
     "data": {
      "text/html": [
       "<div>\n",
       "<style scoped>\n",
       "    .dataframe tbody tr th:only-of-type {\n",
       "        vertical-align: middle;\n",
       "    }\n",
       "\n",
       "    .dataframe tbody tr th {\n",
       "        vertical-align: top;\n",
       "    }\n",
       "\n",
       "    .dataframe thead th {\n",
       "        text-align: right;\n",
       "    }\n",
       "</style>\n",
       "<table border=\"1\" class=\"dataframe\">\n",
       "  <thead>\n",
       "    <tr style=\"text-align: right;\">\n",
       "      <th></th>\n",
       "      <th>Países não especificados</th>\n",
       "      <th>Total</th>\n",
       "      <th>Aérea</th>\n",
       "      <th>Marítima</th>\n",
       "    </tr>\n",
       "  </thead>\n",
       "  <tbody>\n",
       "    <tr>\n",
       "      <th>0</th>\n",
       "      <td>Países não especificados</td>\n",
       "      <td>7</td>\n",
       "      <td>7</td>\n",
       "      <td>0</td>\n",
       "    </tr>\n",
       "  </tbody>\n",
       "</table>\n",
       "</div>"
      ],
      "text/plain": [
       "   Países não especificados  Total  Aérea  Marítima\n",
       "0  Países não especificados      7      7         0"
      ]
     },
     "execution_count": 35,
     "metadata": {},
     "output_type": "execute_result"
    }
   ],
   "source": [
    "import pandas as pd\n",
    "\n",
    "file = '../data/01_raw/2674.xls'\n",
    "\n",
    "# Dicionário com o range de linhas de cada continente no arquivo\n",
    "continent_range = {\n",
    "    'África do Sul': '11:9',\n",
    "    'América Central e Caribe': '21:11',\n",
    "    'América do Norte': '33:3',\n",
    "    'América do Sul': '37:12',\n",
    "    'América do Sul': '37:12',\n",
    "    'Ásia': '50:19',\n",
    "    'Europa': '70:33',\n",
    "    'Europa': '104:3',\n",
    "    'Países não especificados': '107:1',\n",
    "}\n",
    "\n",
    "\n",
    "def get_continent_data(continent):\n",
    "    \"\"\"\n",
    "    Retorna um DataFrame normalizado com os dados de um continente específico\n",
    "    \"\"\"\n",
    "    start, end = continent_range[continent].split(':')\n",
    "    df = pd.read_excel(file, '2019', skiprows=int(\n",
    "        start), nrows=int(end),  usecols='A:D')\n",
    "    df.columns = [continent, 'Total', 'Aérea', 'Marítima']\n",
    "\n",
    "    # Troca '-' por 0 nas colunas Toal, Aérea e Marítima\n",
    "    df['Total'] = df['Total'].replace('-', 0)\n",
    "    df['Aérea'] = df['Aérea'].replace('-', 0)\n",
    "    df['Marítima'] = df['Marítima'].replace('-', 0)\n",
    "    \n",
    "    # Parse as colunas para inteiros\n",
    "    df['Total'] = df['Total'].astype(int)\n",
    "    df['Aérea'] = df['Aérea'].astype(int)\n",
    "    df['Marítima'] = df['Marítima'].astype(int)\n",
    "\n",
    "    return df\n",
    "\n",
    "get_continent_data('Países não especificados')"
   ]
  }
 ],
 "metadata": {
  "kernelspec": {
   "display_name": ".venv",
   "language": "python",
   "name": "python3"
  },
  "language_info": {
   "codemirror_mode": {
    "name": "ipython",
    "version": 3
   },
   "file_extension": ".py",
   "mimetype": "text/x-python",
   "name": "python",
   "nbconvert_exporter": "python",
   "pygments_lexer": "ipython3",
   "version": "3.12.5"
  }
 },
 "nbformat": 4,
 "nbformat_minor": 2
}
